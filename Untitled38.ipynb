{
  "nbformat": 4,
  "nbformat_minor": 0,
  "metadata": {
    "colab": {
      "provenance": [],
      "authorship_tag": "ABX9TyOuAkqpVhqY6Sw93vrK+OOF",
      "include_colab_link": true
    },
    "kernelspec": {
      "name": "python3",
      "display_name": "Python 3"
    },
    "language_info": {
      "name": "python"
    }
  },
  "cells": [
    {
      "cell_type": "markdown",
      "metadata": {
        "id": "view-in-github",
        "colab_type": "text"
      },
      "source": [
        "<a href=\"https://colab.research.google.com/github/D-Bitman/100-Days-Of-ML-Code/blob/master/Untitled38.ipynb\" target=\"_parent\"><img src=\"https://colab.research.google.com/assets/colab-badge.svg\" alt=\"Open In Colab\"/></a>"
      ]
    },
    {
      "cell_type": "code",
      "execution_count": null,
      "metadata": {
        "colab": {
          "base_uri": "https://localhost:8080/"
        },
        "id": "PMCOeb9PSk41",
        "outputId": "35b1e4f0-283b-482f-9dc0-7ab9f4c7a6dc"
      },
      "outputs": [
        {
          "output_type": "stream",
          "name": "stdout",
          "text": [
            "Hora Actual: 22:59:34"
          ]
        }
      ],
      "source": [
        "import time\n",
        "from datetime import datetime # Corrected import\n",
        "\n",
        "try:\n",
        "   while True:\n",
        "       ahora = datetime.now().strftime(\n",
        "           \"%H:%M:%S\")\n",
        "       print(\n",
        "           \"\\rHora Actual: {}\".format(ahora),\n",
        "           end = \"\")\n",
        "       time.sleep(1)\n",
        "\n",
        "except KeyboardInterrupt: # Corrected exception name\n",
        "    print(\"\\nReloj interrumpido\") # Corrected typo in Spanish as well"
      ]
    }
  ]
}