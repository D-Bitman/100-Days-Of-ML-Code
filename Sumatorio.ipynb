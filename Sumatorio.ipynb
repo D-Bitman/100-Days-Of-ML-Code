{
  "nbformat": 4,
  "nbformat_minor": 0,
  "metadata": {
    "colab": {
      "provenance": [],
      "authorship_tag": "ABX9TyNq/SMMxlwIHb1hgHqpcpgI",
      "include_colab_link": true
    },
    "kernelspec": {
      "name": "python3",
      "display_name": "Python 3"
    },
    "language_info": {
      "name": "python"
    }
  },
  "cells": [
    {
      "cell_type": "markdown",
      "metadata": {
        "id": "view-in-github",
        "colab_type": "text"
      },
      "source": [
        "<a href=\"https://colab.research.google.com/github/D-Bitman/100-Days-Of-ML-Code/blob/master/Sumatorio.ipynb\" target=\"_parent\"><img src=\"https://colab.research.google.com/assets/colab-badge.svg\" alt=\"Open In Colab\"/></a>"
      ]
    },
    {
      "cell_type": "code",
      "execution_count": null,
      "metadata": {
        "colab": {
          "base_uri": "https://localhost:8080/"
        },
        "id": "tPcmj3cV7ZTQ",
        "outputId": "f6f6e01b-affd-4e28-afb6-9150662dd2d5"
      },
      "outputs": [
        {
          "name": "stdout",
          "output_type": "stream",
          "text": [
            "número entero:  2\n"
          ]
        }
      ],
      "source": [
        "def sumatorio(num):\n",
        "    if num < 0:\n",
        "       print(\"error: número negativo\")\n",
        "    elif num == 0:\n",
        "       return 0\n",
        "    else:\n",
        "       return num + sumatorio(num - 1)\n",
        "\n",
        "num = int(input(\"número entero:  \"))\n",
        "print(\"sumatorio:  \", sumatorio(num))"
      ]
    }
  ]
}