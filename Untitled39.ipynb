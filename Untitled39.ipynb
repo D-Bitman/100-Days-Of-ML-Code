{
  "nbformat": 4,
  "nbformat_minor": 0,
  "metadata": {
    "colab": {
      "provenance": [],
      "authorship_tag": "ABX9TyNdVhFwYp6aUhGTDa6oZ6V6",
      "include_colab_link": true
    },
    "kernelspec": {
      "name": "python3",
      "display_name": "Python 3"
    },
    "language_info": {
      "name": "python"
    }
  },
  "cells": [
    {
      "cell_type": "markdown",
      "metadata": {
        "id": "view-in-github",
        "colab_type": "text"
      },
      "source": [
        "<a href=\"https://colab.research.google.com/github/D-Bitman/100-Days-Of-ML-Code/blob/master/Untitled39.ipynb\" target=\"_parent\"><img src=\"https://colab.research.google.com/assets/colab-badge.svg\" alt=\"Open In Colab\"/></a>"
      ]
    },
    {
      "cell_type": "code",
      "execution_count": 1,
      "metadata": {
        "colab": {
          "base_uri": "https://localhost:8080/"
        },
        "id": "2N80lssqAzdr",
        "outputId": "e3b3638e-df06-4819-f89b-ae8c1ed7403e"
      },
      "outputs": [
        {
          "output_type": "stream",
          "name": "stdout",
          "text": [
            "1\n",
            "2\n"
          ]
        }
      ],
      "source": [
        "i = 1\n",
        "while True:\n",
        "    if i%3 == 0:\n",
        "       break\n",
        "    print(i)\n",
        "\n",
        "    i += 1"
      ]
    }
  ]
}