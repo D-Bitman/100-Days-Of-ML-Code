{
  "nbformat": 4,
  "nbformat_minor": 0,
  "metadata": {
    "colab": {
      "provenance": [],
      "authorship_tag": "ABX9TyPagSMy0YAcdk6ANt2oT/WQ",
      "include_colab_link": true
    },
    "kernelspec": {
      "name": "python3",
      "display_name": "Python 3"
    },
    "language_info": {
      "name": "python"
    }
  },
  "cells": [
    {
      "cell_type": "markdown",
      "metadata": {
        "id": "view-in-github",
        "colab_type": "text"
      },
      "source": [
        "<a href=\"https://colab.research.google.com/github/D-Bitman/100-Days-Of-ML-Code/blob/master/ejsort.ipynb\" target=\"_parent\"><img src=\"https://colab.research.google.com/assets/colab-badge.svg\" alt=\"Open In Colab\"/></a>"
      ]
    },
    {
      "cell_type": "code",
      "execution_count": 3,
      "metadata": {
        "id": "rERDn50Zg3Y0",
        "colab": {
          "base_uri": "https://localhost:8080/"
        },
        "outputId": "7ff60471-b520-4826-b931-0c52c9698423"
      },
      "outputs": [
        {
          "output_type": "stream",
          "name": "stdout",
          "text": [
            "Original array: [1, 88, 34, 3, 9, 0]\n",
            "Sorted Array: [0, 1, 88, 34, 3, 9]\n"
          ]
        }
      ],
      "source": [
        "def insertion_sort(arr):\n",
        "    for i in range(1, len(arr)):\n",
        "        key = arr[i]\n",
        "        j = i - 1\n",
        "\n",
        "    while j>= 0 and arr[j] > key:\n",
        "        arr[j+1] = arr[j]\n",
        "        j -= 1\n",
        "    arr[j+1] = key\n",
        "\n",
        "arr =[1, 88, 34, 3, 9, 0]\n",
        "print(\"Original array:\", arr)\n",
        "insertion_sort(arr)\n",
        "print(\"Sorted Array:\", arr)"
      ]
    }
  ]
}