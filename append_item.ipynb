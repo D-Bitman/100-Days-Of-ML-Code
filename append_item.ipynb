{
  "nbformat": 4,
  "nbformat_minor": 0,
  "metadata": {
    "colab": {
      "provenance": [],
      "authorship_tag": "ABX9TyMNwxRb9wRk8qiAn7WPSItF",
      "include_colab_link": true
    },
    "kernelspec": {
      "name": "python3",
      "display_name": "Python 3"
    },
    "language_info": {
      "name": "python"
    }
  },
  "cells": [
    {
      "cell_type": "markdown",
      "metadata": {
        "id": "view-in-github",
        "colab_type": "text"
      },
      "source": [
        "<a href=\"https://colab.research.google.com/github/D-Bitman/100-Days-Of-ML-Code/blob/master/append_item.ipynb\" target=\"_parent\"><img src=\"https://colab.research.google.com/assets/colab-badge.svg\" alt=\"Open In Colab\"/></a>"
      ]
    },
    {
      "cell_type": "code",
      "execution_count": 1,
      "metadata": {
        "colab": {
          "base_uri": "https://localhost:8080/"
        },
        "id": "snpY7dD16RL1",
        "outputId": "4ce94f47-8aef-49ae-b92e-74c55ffbc511"
      },
      "outputs": [
        {
          "output_type": "stream",
          "name": "stdout",
          "text": [
            "[1]\n",
            "[1, 2]\n"
          ]
        }
      ],
      "source": [
        "\n",
        "def append_item(val, lst=[]):\n",
        "    lst.append(val)\n",
        "    return lst\n",
        "\n",
        "print(append_item(1))\n",
        "print(append_item(2))"
      ]
    }
  ]
}