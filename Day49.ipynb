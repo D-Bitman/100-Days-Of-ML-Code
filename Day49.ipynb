{
  "nbformat": 4,
  "nbformat_minor": 0,
  "metadata": {
    "colab": {
      "provenance": [],
      "authorship_tag": "ABX9TyNI2mrd2xNP/qjJkoRwPxDG",
      "include_colab_link": true
    },
    "kernelspec": {
      "name": "python3",
      "display_name": "Python 3"
    },
    "language_info": {
      "name": "python"
    }
  },
  "cells": [
    {
      "cell_type": "markdown",
      "metadata": {
        "id": "view-in-github",
        "colab_type": "text"
      },
      "source": [
        "<a href=\"https://colab.research.google.com/github/D-Bitman/100-Days-Of-ML-Code/blob/master/Day49.ipynb\" target=\"_parent\"><img src=\"https://colab.research.google.com/assets/colab-badge.svg\" alt=\"Open In Colab\"/></a>"
      ]
    },
    {
      "cell_type": "code",
      "execution_count": null,
      "metadata": {
        "colab": {
          "base_uri": "https://localhost:8080/"
        },
        "id": "PspaHPESN-AB",
        "outputId": "9efc0f29-ee16-4fed-9716-eb35602d0ee2"
      },
      "outputs": [
        {
          "output_type": "stream",
          "name": "stdout",
          "text": [
            "0\n",
            "1\n",
            "4\n"
          ]
        }
      ],
      "source": [
        "funcs = []\n",
        "for i in range(3):\n",
        "    funcs.append(lambda i = i : i * i)\n",
        "for f in funcs:\n",
        "    print(f())"
      ]
    }
  ]
}